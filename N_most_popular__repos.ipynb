{
  "nbformat": 4,
  "nbformat_minor": 0,
  "metadata": {
    "colab": {
      "name": "N_most_popular _repositories.ipynb",
      "provenance": [],
      "collapsed_sections": []
    },
    "kernelspec": {
      "name": "python3",
      "display_name": "Python 3"
    }
  },
  "cells": [
    {
      "cell_type": "code",
      "metadata": {
        "id": "hYS5FYxOanjK",
        "outputId": "8eb8735f-d4c3-4c03-8ef5-f28310597b07",
        "colab": {
          "base_uri": "https://localhost:8080/",
          "height": 35
        }
      },
      "source": [
        "pwd"
      ],
      "execution_count": null,
      "outputs": [
        {
          "output_type": "execute_result",
          "data": {
            "application/vnd.google.colaboratory.intrinsic+json": {
              "type": "string"
            },
            "text/plain": [
              "'/content'"
            ]
          },
          "metadata": {
            "tags": []
          },
          "execution_count": 7
        }
      ]
    },
    {
      "cell_type": "code",
      "metadata": {
        "id": "j19KkxJfaqTo"
      },
      "source": [
        "#Uploaded Code File"
      ],
      "execution_count": null,
      "outputs": []
    },
    {
      "cell_type": "code",
      "metadata": {
        "id": "WVD920LLSuuD",
        "outputId": "ece29e89-553f-40fe-8585-411bb08bab38",
        "colab": {
          "base_uri": "https://localhost:8080/"
        }
      },
      "source": [
        "#Install the requests library to get GitHub  API's data\n",
        "!pip install requests"
      ],
      "execution_count": null,
      "outputs": [
        {
          "output_type": "stream",
          "text": [
            "Requirement already satisfied: requests in /usr/local/lib/python3.6/dist-packages (2.23.0)\n",
            "Requirement already satisfied: urllib3!=1.25.0,!=1.25.1,<1.26,>=1.21.1 in /usr/local/lib/python3.6/dist-packages (from requests) (1.24.3)\n",
            "Requirement already satisfied: chardet<4,>=3.0.2 in /usr/local/lib/python3.6/dist-packages (from requests) (3.0.4)\n",
            "Requirement already satisfied: certifi>=2017.4.17 in /usr/local/lib/python3.6/dist-packages (from requests) (2020.6.20)\n",
            "Requirement already satisfied: idna<3,>=2.5 in /usr/local/lib/python3.6/dist-packages (from requests) (2.10)\n"
          ],
          "name": "stdout"
        }
      ]
    },
    {
      "cell_type": "markdown",
      "metadata": {
        "id": "FlJiEo72bxXO"
      },
      "source": [
        "**1st Test Case:** \n",
        "  *Org*: google, *n*: 5, *m*: 3"
      ]
    },
    {
      "cell_type": "code",
      "metadata": {
        "id": "U0WS6l5bS9gy",
        "outputId": "1d590be9-38e8-403e-bbf8-2650d68d99de",
        "colab": {
          "base_uri": "https://localhost:8080/"
        }
      },
      "source": [
        "!python3 /content/code.py"
      ],
      "execution_count": null,
      "outputs": [
        {
          "output_type": "stream",
          "text": [
            "Enter the Organisation name:google\n",
            "Enter number of popular repositories:5\n",
            "Enter number of popular committees:3\n",
            "Repository number: 1 google/it-cert-automation-practice   Fork counts: 11843\n",
            "Github id: 1 marga-google   Commit counts: 3\n",
            "Github id: 2 margamanterola   Commit counts: 1\n",
            "\n",
            "\n",
            "Repository number: 2 google/styleguide   Fork counts: 9749\n",
            "Github id: 1 IsaacG   Commit counts: 30\n",
            "Github id: 2 eglaysher   Commit counts: 25\n",
            "Github id: 3 tonyruscoe   Commit counts: 19\n",
            "\n",
            "\n",
            "Repository number: 3 google/guava   Fork counts: 8822\n",
            "Github id: 1 cpovirk   Commit counts: 1420\n",
            "Github id: 2 kluever   Commit counts: 565\n",
            "Github id: 3 cgdecker   Commit counts: 494\n",
            "\n",
            "\n",
            "Repository number: 4 google/material-design-icons   Fork counts: 8482\n",
            "Github id: 1 jestelle   Commit counts: 38\n",
            "Github id: 2 rsheeter   Commit counts: 21\n",
            "Github id: 3 addyosmani   Commit counts: 13\n",
            "\n",
            "\n",
            "Repository number: 5 google/googletest   Fork counts: 6789\n",
            "Github id: 1 gennadiycivil   Commit counts: 1279\n",
            "Github id: 2 BillyDonahue   Commit counts: 111\n",
            "Github id: 3 kuzkry   Commit counts: 76\n",
            "\n",
            "\n"
          ],
          "name": "stdout"
        }
      ]
    }
  ]
}